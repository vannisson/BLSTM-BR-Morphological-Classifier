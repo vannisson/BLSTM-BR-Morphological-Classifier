{
 "cells": [
  {
   "cell_type": "markdown",
   "id": "4319c669",
   "metadata": {},
   "source": [
    "# BLSTM-BR-Morphological-Classifier\n",
    "\n",
    "This notebook contains the creation and training of a Bidirectional Long Short-Term Memory (BLSTM) model to perform part-of-speech tagging in Portuguese.\n",
    "\n",
    "BLSTM is a type of recurrent neural network (RNN) capable of processing data streams in both directions, either left to right or right to left.\n",
    "\n",
    "For this, two LSTM layers are used, each one processing the input sequence in a different direction. The outputs from the two layers are then combined to produce the final output.\n",
    "\n",
    "The corpus used in the training is Mac-Morpho V3. Available at: http://nilc.icmc.usp.br/macmorpho/"
   ]
  },
  {
   "cell_type": "code",
   "execution_count": 1,
   "id": "1346971d",
   "metadata": {},
   "outputs": [
    {
     "name": "stderr",
     "output_type": "stream",
     "text": [
      "2023-04-04 21:53:58.809805: I tensorflow/core/util/port.cc:110] oneDNN custom operations are on. You may see slightly different numerical results due to floating-point round-off errors from different computation orders. To turn them off, set the environment variable `TF_ENABLE_ONEDNN_OPTS=0`.\n",
      "2023-04-04 21:53:58.851376: I tensorflow/core/platform/cpu_feature_guard.cc:182] This TensorFlow binary is optimized to use available CPU instructions in performance-critical operations.\n",
      "To enable the following instructions: AVX2 AVX512F AVX512_VNNI FMA, in other operations, rebuild TensorFlow with the appropriate compiler flags.\n",
      "2023-04-04 21:54:00.479249: I tensorflow/compiler/xla/stream_executor/cuda/cuda_gpu_executor.cc:982] could not open file to read NUMA node: /sys/bus/pci/devices/0000:01:00.0/numa_node\n",
      "Your kernel may have been built without NUMA support.\n"
     ]
    },
    {
     "data": {
      "text/plain": [
       "[PhysicalDevice(name='/physical_device:GPU:0', device_type='GPU')]"
      ]
     },
     "execution_count": 1,
     "metadata": {},
     "output_type": "execute_result"
    },
    {
     "name": "stderr",
     "output_type": "stream",
     "text": [
      "2023-04-04 21:54:00.486164: I tensorflow/compiler/xla/stream_executor/cuda/cuda_gpu_executor.cc:982] could not open file to read NUMA node: /sys/bus/pci/devices/0000:01:00.0/numa_node\n",
      "Your kernel may have been built without NUMA support.\n",
      "2023-04-04 21:54:00.486445: I tensorflow/compiler/xla/stream_executor/cuda/cuda_gpu_executor.cc:982] could not open file to read NUMA node: /sys/bus/pci/devices/0000:01:00.0/numa_node\n",
      "Your kernel may have been built without NUMA support.\n"
     ]
    }
   ],
   "source": [
    "# Importing the required libraries\n",
    "import numpy as np\n",
    "import tensorflow as tf\n",
    "from keras.models import Sequential\n",
    "from tensorflow.keras.layers import Dense, LSTM, Bidirectional, Dropout, BatchNormalization, Conv1D, MaxPooling1D, Flatten, Embedding\n",
    "tf.config.list_physical_devices('GPU')"
   ]
  },
  {
   "cell_type": "code",
   "execution_count": 2,
   "id": "6a9bc58b",
   "metadata": {},
   "outputs": [],
   "source": [
    "# Load the data from the file\n",
    "with open('macmorpho-train.txt', 'r') as f:\n",
    "    data = f.readlines()"
   ]
  },
  {
   "cell_type": "code",
   "execution_count": 3,
   "id": "0c3b5c66",
   "metadata": {},
   "outputs": [],
   "source": [
    "# Preprocessing the data\n",
    "X, Y = [], []\n",
    "for line in data:\n",
    "    tokens = line.strip().split()\n",
    "    X.append([t.split('_')[0].lower() for t in tokens])\n",
    "    Y.append([t.split('_')[1] for t in tokens])\n",
    "    \n",
    "# Creating vocabulary and dictionaries\n",
    "vocab = sorted(set(np.concatenate(X)))\n",
    "vocab.append('<UNK>')  # add <UNK> to represent unknown words\n",
    "tag_dict = {t: i for i, t in enumerate(sorted(set(np.concatenate(Y))))}\n",
    "reverse_tag_dict = {v: k for k, v in tag_dict.items()}\n",
    "word_dict = {w: i+1 for i, w in enumerate(vocab)}  # shift indices by 1 to make room for <UNK>\n",
    "word_dict['<UNK>'] = 0  # add <UNK> to dictionary and give it index 0\n",
    "\n",
    "# Converting words and tags to numbers\n",
    "X = [[word_dict[word] for word in sent] for sent in X]\n",
    "Y = [[tag_dict[tag] for tag in sent] for sent in Y]"
   ]
  },
  {
   "cell_type": "code",
   "execution_count": 4,
   "id": "067d38be",
   "metadata": {},
   "outputs": [],
   "source": [
    "# Padding the sequences\n",
    "X = tf.keras.preprocessing.sequence.pad_sequences(X)\n",
    "Y = tf.keras.preprocessing.sequence.pad_sequences(Y)\n",
    "\n",
    "# Creating train and validation sets\n",
    "X_train, X_val = X[:50000], X[50000:]\n",
    "Y_train, Y_val = Y[:50000], Y[50000:]"
   ]
  },
  {
   "cell_type": "code",
   "execution_count": 5,
   "id": "b98015b6",
   "metadata": {
    "scrolled": true
   },
   "outputs": [
    {
     "name": "stderr",
     "output_type": "stream",
     "text": [
      "2023-04-04 21:54:02.387860: I tensorflow/compiler/xla/stream_executor/cuda/cuda_gpu_executor.cc:982] could not open file to read NUMA node: /sys/bus/pci/devices/0000:01:00.0/numa_node\n",
      "Your kernel may have been built without NUMA support.\n",
      "2023-04-04 21:54:02.388213: I tensorflow/compiler/xla/stream_executor/cuda/cuda_gpu_executor.cc:982] could not open file to read NUMA node: /sys/bus/pci/devices/0000:01:00.0/numa_node\n",
      "Your kernel may have been built without NUMA support.\n",
      "2023-04-04 21:54:02.388440: I tensorflow/compiler/xla/stream_executor/cuda/cuda_gpu_executor.cc:982] could not open file to read NUMA node: /sys/bus/pci/devices/0000:01:00.0/numa_node\n",
      "Your kernel may have been built without NUMA support.\n",
      "2023-04-04 21:54:03.164544: I tensorflow/compiler/xla/stream_executor/cuda/cuda_gpu_executor.cc:982] could not open file to read NUMA node: /sys/bus/pci/devices/0000:01:00.0/numa_node\n",
      "Your kernel may have been built without NUMA support.\n",
      "2023-04-04 21:54:03.165234: I tensorflow/compiler/xla/stream_executor/cuda/cuda_gpu_executor.cc:982] could not open file to read NUMA node: /sys/bus/pci/devices/0000:01:00.0/numa_node\n",
      "Your kernel may have been built without NUMA support.\n",
      "2023-04-04 21:54:03.165272: I tensorflow/core/common_runtime/gpu/gpu_device.cc:1722] Could not identify NUMA node of platform GPU id 0, defaulting to 0.  Your kernel may not have been built with NUMA support.\n",
      "2023-04-04 21:54:03.165509: I tensorflow/compiler/xla/stream_executor/cuda/cuda_gpu_executor.cc:982] could not open file to read NUMA node: /sys/bus/pci/devices/0000:01:00.0/numa_node\n",
      "Your kernel may have been built without NUMA support.\n",
      "2023-04-04 21:54:03.165558: I tensorflow/core/common_runtime/gpu/gpu_device.cc:1635] Created device /job:localhost/replica:0/task:0/device:GPU:0 with 3383 MB memory:  -> device: 0, name: NVIDIA GeForce RTX 3060 Laptop GPU, pci bus id: 0000:01:00.0, compute capability: 8.6\n"
     ]
    }
   ],
   "source": [
    "# Defining the model architecture\n",
    "model = Sequential()\n",
    "model.add(Embedding(input_dim=len(vocab), output_dim=128, mask_zero=True))\n",
    "model.add(Bidirectional(LSTM(units=128, return_sequences=True)))\n",
    "model.add(Dropout(0.7))\n",
    "model.add(Bidirectional(LSTM(units=64, return_sequences=True)))\n",
    "model.add(Dropout(0.7))\n",
    "model.add(Dense(units=len(tag_dict), activation='softmax'))"
   ]
  },
  {
   "cell_type": "code",
   "execution_count": 6,
   "id": "cb144fc9",
   "metadata": {},
   "outputs": [],
   "source": [
    "# Compilando o modelo\n",
    "model.compile(optimizer='adam', loss='sparse_categorical_crossentropy', \n",
    "              metrics=['accuracy'])"
   ]
  },
  {
   "cell_type": "code",
   "execution_count": 7,
   "id": "3fdf5901",
   "metadata": {
    "scrolled": true
   },
   "outputs": [
    {
     "name": "stdout",
     "output_type": "stream",
     "text": [
      "Epoch 1/10\n"
     ]
    },
    {
     "name": "stderr",
     "output_type": "stream",
     "text": [
      "2023-04-04 21:54:08.462249: I tensorflow/core/common_runtime/executor.cc:1197] [/device:CPU:0] (DEBUG INFO) Executor start aborting (this does not indicate an error and you can ignore this message): INVALID_ARGUMENT: You must feed a value for placeholder tensor 'gradients/ReverseV2_grad/ReverseV2/ReverseV2/axis' with dtype int32 and shape [1]\n",
      "\t [[{{node gradients/ReverseV2_grad/ReverseV2/ReverseV2/axis}}]]\n",
      "2023-04-04 21:54:08.873983: I tensorflow/core/common_runtime/executor.cc:1197] [/device:CPU:0] (DEBUG INFO) Executor start aborting (this does not indicate an error and you can ignore this message): INVALID_ARGUMENT: You must feed a value for placeholder tensor 'gradients/ReverseV2_grad/ReverseV2/ReverseV2/axis' with dtype int32 and shape [1]\n",
      "\t [[{{node gradients/ReverseV2_grad/ReverseV2/ReverseV2/axis}}]]\n",
      "2023-04-04 21:54:12.031438: I tensorflow/core/common_runtime/executor.cc:1197] [/device:CPU:0] (DEBUG INFO) Executor start aborting (this does not indicate an error and you can ignore this message): INVALID_ARGUMENT: You must feed a value for placeholder tensor 'gradients/ReverseV2_grad/ReverseV2/ReverseV2/axis' with dtype int32 and shape [1]\n",
      "\t [[{{node gradients/ReverseV2_grad/ReverseV2/ReverseV2/axis}}]]\n",
      "2023-04-04 21:54:12.439592: I tensorflow/core/common_runtime/executor.cc:1197] [/device:CPU:0] (DEBUG INFO) Executor start aborting (this does not indicate an error and you can ignore this message): INVALID_ARGUMENT: You must feed a value for placeholder tensor 'gradients/ReverseV2_grad/ReverseV2/ReverseV2/axis' with dtype int32 and shape [1]\n",
      "\t [[{{node gradients/ReverseV2_grad/ReverseV2/ReverseV2/axis}}]]\n",
      "2023-04-04 21:54:13.534687: W tensorflow/core/common_runtime/type_inference.cc:339] Type inference failed. This indicates an invalid graph that escaped type checking. Error message: INVALID_ARGUMENT: expected compatible input types, but input 1:\n",
      "type_id: TFT_OPTIONAL\n",
      "args {\n",
      "  type_id: TFT_PRODUCT\n",
      "  args {\n",
      "    type_id: TFT_TENSOR\n",
      "    args {\n",
      "      type_id: TFT_INT32\n",
      "    }\n",
      "  }\n",
      "}\n",
      " is neither a subtype nor a supertype of the combined inputs preceding it:\n",
      "type_id: TFT_OPTIONAL\n",
      "args {\n",
      "  type_id: TFT_PRODUCT\n",
      "  args {\n",
      "    type_id: TFT_TENSOR\n",
      "    args {\n",
      "      type_id: TFT_FLOAT\n",
      "    }\n",
      "  }\n",
      "}\n",
      "\n",
      "\twhile inferring type of node 'cond_42/output/_24'\n",
      "2023-04-04 21:54:14.735876: I tensorflow/compiler/xla/stream_executor/cuda/cuda_blas.cc:637] TensorFloat-32 will be used for the matrix multiplication. This will only be logged once.\n",
      "2023-04-04 21:54:16.581740: I tensorflow/compiler/xla/service/service.cc:169] XLA service 0x44e3a010 initialized for platform CUDA (this does not guarantee that XLA will be used). Devices:\n",
      "2023-04-04 21:54:16.581784: I tensorflow/compiler/xla/service/service.cc:177]   StreamExecutor device (0): NVIDIA GeForce RTX 3060 Laptop GPU, Compute Capability 8.6\n",
      "2023-04-04 21:54:16.585467: I tensorflow/compiler/mlir/tensorflow/utils/dump_mlir_util.cc:269] disabling MLIR crash reproducer, set env var `MLIR_CRASH_REPRODUCER_DIRECTORY` to enable.\n",
      "2023-04-04 21:54:16.728330: I tensorflow/compiler/xla/stream_executor/cuda/cuda_dnn.cc:424] Loaded cuDNN version 8600\n",
      "2023-04-04 21:54:16.814144: I ./tensorflow/compiler/jit/device_compiler.h:180] Compiled cluster using XLA!  This line is logged at most once for the lifetime of the process.\n"
     ]
    },
    {
     "name": "stdout",
     "output_type": "stream",
     "text": [
      "297/297 [==============================] - 1232s 4s/step - loss: 1.3824 - accuracy: 0.5926\n",
      "Epoch 2/10\n",
      "297/297 [==============================] - 1207s 4s/step - loss: 0.3516 - accuracy: 0.9084\n",
      "Epoch 3/10\n",
      "297/297 [==============================] - 1197s 4s/step - loss: 0.2406 - accuracy: 0.9374\n",
      "Epoch 4/10\n",
      "297/297 [==============================] - 1198s 4s/step - loss: 0.1949 - accuracy: 0.9488\n",
      "Epoch 5/10\n",
      "297/297 [==============================] - 1197s 4s/step - loss: 0.1651 - accuracy: 0.9565\n",
      "Epoch 6/10\n",
      "297/297 [==============================] - 1186s 4s/step - loss: 0.1431 - accuracy: 0.9620\n",
      "Epoch 7/10\n",
      "297/297 [==============================] - 1173s 4s/step - loss: 0.1267 - accuracy: 0.9661\n",
      "Epoch 8/10\n",
      "297/297 [==============================] - 1248s 4s/step - loss: 0.1139 - accuracy: 0.9693\n",
      "Epoch 9/10\n",
      "297/297 [==============================] - 1256s 4s/step - loss: 0.1035 - accuracy: 0.9719\n",
      "Epoch 10/10\n",
      "297/297 [==============================] - 1235s 4s/step - loss: 0.0932 - accuracy: 0.9746\n"
     ]
    },
    {
     "data": {
      "text/plain": [
       "<keras.callbacks.History at 0x7fb8700fedf0>"
      ]
     },
     "execution_count": 7,
     "metadata": {},
     "output_type": "execute_result"
    }
   ],
   "source": [
    "# Training the model\n",
    "model.fit(X_train, Y_train, validation_data=(X_val, Y_val), epochs=10, batch_size=128)"
   ]
  },
  {
   "cell_type": "code",
   "execution_count": 8,
   "id": "08cfb7c6",
   "metadata": {},
   "outputs": [
    {
     "name": "stdout",
     "output_type": "stream",
     "text": [
      "79/79 [==============================] - 55s 647ms/step - loss: 0.2165 - accuracy: 0.9510\n",
      "Test Loss: 0.2165159434080124\n",
      "Test Accuracy: 0.9509977698326111\n"
     ]
    }
   ],
   "source": [
    "# Preprocess test data\n",
    "with open('macmorpho-test.txt', 'r') as f:\n",
    "    test_data = f.readlines()\n",
    "\n",
    "test_X, test_Y = [], []\n",
    "for line in test_data:\n",
    "    tokens = line.strip().split()\n",
    "    test_X.append([word_dict.get(t.split('_')[0].lower(), 0) for t in tokens])  # replace unknown words with <UNK>\n",
    "    test_Y.append([tag_dict[t.split('_')[1]] for t in tokens])\n",
    "\n",
    "# Padding the sequences\n",
    "test_X = tf.keras.preprocessing.sequence.pad_sequences(test_X)\n",
    "test_Y = tf.keras.preprocessing.sequence.pad_sequences(test_Y)\n",
    "\n",
    "# Evaluating the model on test data\n",
    "loss, accuracy = model.evaluate(test_X, test_Y, batch_size=128)\n",
    "print('Test Loss:', loss)\n",
    "print('Test Accuracy:', accuracy)"
   ]
  },
  {
   "cell_type": "code",
   "execution_count": 10,
   "id": "5f757f52",
   "metadata": {},
   "outputs": [
    {
     "name": "stdout",
     "output_type": "stream",
     "text": [
      "1/1 [==============================] - 3s 3s/step\n",
      "Era V\n",
      "uma ART\n",
      "vez N\n",
      "um ART\n",
      "rapaz N\n",
      "chamado PCP\n",
      "Ivan. ADV\n",
      "Num PREP+ART\n",
      "certo ADJ\n",
      "dia N\n",
      "o ART\n",
      "Ivan NPROP\n",
      "foi V\n",
      "à PREP+ART\n",
      "escola N\n",
      "ele PROPESS\n",
      "era V\n",
      "tão ADV\n",
      "distraído, ADV\n",
      "que KS\n",
      "precisava V\n",
      "dos PREP+ART\n",
      "professores. ADV\n",
      "Passado N\n",
      "algum PROADJ\n",
      "tempo N\n",
      "chegou V\n",
      "a ART\n",
      "hora N\n",
      "do PREP+ART\n",
      "lanche, ADV\n",
      "o ART\n",
      "Ivan NPROP\n",
      "enquanto KS\n",
      "lanchava ADV\n",
      "imitava ADV\n",
      "as ART\n",
      "pessoas N\n",
      "quando KS\n",
      "tocou V\n",
      "para PREP\n",
      "o PROSUB\n",
      "intervalo. ADV\n",
      "Como KS\n",
      "estava V\n",
      "um ART\n",
      "dia N\n",
      "de PREP\n",
      "sol N\n",
      "o ART\n",
      "Ivan NPROP\n",
      "foi V\n",
      "jogar V\n",
      "futebol N\n",
      "como KS\n",
      "ele PROPESS\n",
      "era V\n",
      "um PROSUB\n",
      "dos PREP+ART\n",
      "melhores ADJ\n",
      "a PREP\n",
      "jogar V\n",
      "estava V\n",
      "na PREP+ART\n",
      "equipe N\n",
      "principal ADJ\n",
      "da PREP+ART\n",
      "escola N\n"
     ]
    }
   ],
   "source": [
    "# Exemplo de frase para classificar\n",
    "input_text = \"Era uma vez um rapaz chamado Ivan. Num certo dia o Ivan foi à escola ele era tão distraído, que precisava dos professores. Passado algum tempo chegou a hora do lanche, o Ivan enquanto lanchava imitava as pessoas quando tocou para o intervalo. Como estava um dia de sol o Ivan foi jogar futebol como ele era um dos melhores a jogar estava na equipe principal da escola\"\n",
    "\n",
    "# Converte a frase em uma sequência de índices de palavras\n",
    "input_sequence = [word_dict.get(word.lower(), 0) for word in input_text.split()]\n",
    "\n",
    "# Adiciona padding à sequência\n",
    "padded_input_sequence = tf.keras.preprocessing.sequence.pad_sequences([input_sequence])\n",
    "\n",
    "# Faz a previsão das etiquetas das palavras na frase\n",
    "predicted_tags = model.predict(padded_input_sequence)[0]\n",
    "\n",
    "# Converte os índices das etiquetas em suas representações em texto\n",
    "predicted_tags_text = [reverse_tag_dict[np.argmax(tag)] for tag in predicted_tags]\n",
    "\n",
    "# Imprime as palavras e suas etiquetas previstas\n",
    "for i, word in enumerate(input_text.split()):\n",
    "    print(word, predicted_tags_text[i])"
   ]
  },
  {
   "cell_type": "code",
   "execution_count": null,
   "id": "205e346b",
   "metadata": {},
   "outputs": [],
   "source": []
  }
 ],
 "metadata": {
  "kernelspec": {
   "display_name": "Python 3 (ipykernel)",
   "language": "python",
   "name": "python3"
  },
  "language_info": {
   "codemirror_mode": {
    "name": "ipython",
    "version": 3
   },
   "file_extension": ".py",
   "mimetype": "text/x-python",
   "name": "python",
   "nbconvert_exporter": "python",
   "pygments_lexer": "ipython3",
   "version": "3.8.10"
  }
 },
 "nbformat": 4,
 "nbformat_minor": 5
}
